{
 "cells": [
  {
   "cell_type": "code",
   "execution_count": 1,
   "id": "1c267769-b462-4c65-bb32-ae37cf064da1",
   "metadata": {},
   "outputs": [],
   "source": [
    "import numpy as np"
   ]
  },
  {
   "cell_type": "code",
   "execution_count": 4,
   "id": "6304f550-3c7f-44d4-9879-edd78f36a25e",
   "metadata": {},
   "outputs": [
    {
     "name": "stdout",
     "output_type": "stream",
     "text": [
      "[30 60 90]\n"
     ]
    }
   ],
   "source": [
    "arr =np.array([10,20,30])\n",
    "multiplied = arr *3\n",
    "print(multiplied)"
   ]
  },
  {
   "cell_type": "code",
   "execution_count": 6,
   "id": "016d57ee-328c-49e7-8d08-0727ebe9425a",
   "metadata": {},
   "outputs": [
    {
     "name": "stdout",
     "output_type": "stream",
     "text": [
      "[1 3 5 7 9]\n"
     ]
    }
   ],
   "source": [
    "arr1 =np.arange(1,10,2)\n",
    "print(arr1)"
   ]
  },
  {
   "cell_type": "code",
   "execution_count": null,
   "id": "f2076a43-f3e9-4ec7-b9de-3733bfd698f7",
   "metadata": {},
   "outputs": [],
   "source": [
    "identity_matrix = np.eye(3"
   ]
  }
 ],
 "metadata": {
  "kernelspec": {
   "display_name": "Python [conda env:base] *",
   "language": "python",
   "name": "conda-base-py"
  },
  "language_info": {
   "codemirror_mode": {
    "name": "ipython",
    "version": 3
   },
   "file_extension": ".py",
   "mimetype": "text/x-python",
   "name": "python",
   "nbconvert_exporter": "python",
   "pygments_lexer": "ipython3",
   "version": "3.12.7"
  }
 },
 "nbformat": 4,
 "nbformat_minor": 5
}
